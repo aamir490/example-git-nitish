{
 "cells": [
  {
   "cell_type": "code",
   "execution_count": null,
   "id": "2ab8ab22",
   "metadata": {},
   "outputs": [],
   "source": [
    "import json\n",
    "\n",
    "class Database:\n",
    "\n",
    "    def add_data(self,name,email,password):\n",
    "\n",
    "        with open('db.json','r') as rf:\n",
    "            database = json.load(rf)\n",
    "\n",
    "        if email in database:\n",
    "            return 0\n",
    "        else:\n",
    "            database[email] = [name,password]\n",
    "            with open('db.json','w') as wf:\n",
    "                json.dump(database,wf)\n",
    "            return 1\n",
    "\n",
    "    def search(self,email,password):\n",
    "\n",
    "        with open('db.json','r') as rf:\n",
    "            database = json.load(rf)\n",
    "            if email in database:\n",
    "                if database[email][1] == password:\n",
    "                    return 1\n",
    "                else:\n",
    "                    return 0\n",
    "            else:\n",
    "                return 0"
   ]
  }
 ],
 "metadata": {
  "kernelspec": {
   "display_name": "Python 3 (ipykernel)",
   "language": "python",
   "name": "python3"
  },
  "language_info": {
   "codemirror_mode": {
    "name": "ipython",
    "version": 3
   },
   "file_extension": ".py",
   "mimetype": "text/x-python",
   "name": "python",
   "nbconvert_exporter": "python",
   "pygments_lexer": "ipython3",
   "version": "3.11.5"
  }
 },
 "nbformat": 4,
 "nbformat_minor": 5
}
