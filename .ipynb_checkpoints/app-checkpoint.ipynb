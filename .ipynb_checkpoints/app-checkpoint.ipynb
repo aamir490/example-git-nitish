{
 "cells": [
  {
   "cell_type": "code",
   "execution_count": 1,
   "id": "29bb232d",
   "metadata": {},
   "outputs": [],
   "source": [
    "from tkinter import *\n",
    "\n",
    "class NLPApp:\n",
    "\n",
    "    def __init__(self):\n",
    "\n",
    "        # login ka gui load karna\n",
    "        self.root = Tk()\n",
    "        self.root.title('NLPApp')\n",
    "        self.root.iconbitmap('resources/my_favicon.ico')\n",
    "        self.root.geometry('350x600')\n",
    "        self.root.configure(bg='#34495E')\n",
    "\n",
    "nlp = NLPApp()"
   ]
  },
  {
   "cell_type": "code",
   "execution_count": null,
   "id": "e6d1690d",
   "metadata": {},
   "outputs": [],
   "source": []
  },
  {
   "cell_type": "code",
   "execution_count": null,
   "id": "151d4c09",
   "metadata": {},
   "outputs": [],
   "source": []
  },
  {
   "cell_type": "code",
   "execution_count": null,
   "id": "c4ba46be",
   "metadata": {},
   "outputs": [],
   "source": []
  },
  {
   "cell_type": "code",
   "execution_count": null,
   "id": "2a1851c1",
   "metadata": {},
   "outputs": [],
   "source": []
  },
  {
   "cell_type": "code",
   "execution_count": null,
   "id": "3e3365ca",
   "metadata": {},
   "outputs": [],
   "source": []
  }
 ],
 "metadata": {
  "kernelspec": {
   "display_name": "Python 3 (ipykernel)",
   "language": "python",
   "name": "python3"
  },
  "language_info": {
   "codemirror_mode": {
    "name": "ipython",
    "version": 3
   },
   "file_extension": ".py",
   "mimetype": "text/x-python",
   "name": "python",
   "nbconvert_exporter": "python",
   "pygments_lexer": "ipython3",
   "version": "3.11.5"
  }
 },
 "nbformat": 4,
 "nbformat_minor": 5
}
